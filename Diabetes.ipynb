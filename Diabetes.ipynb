{
  "nbformat": 4,
  "nbformat_minor": 0,
  "metadata": {
    "colab": {
      "name": "Diabetes.ipynb",
      "version": "0.3.2",
      "provenance": [],
      "include_colab_link": true
    },
    "kernelspec": {
      "name": "python3",
      "display_name": "Python 3"
    },
    "accelerator": "GPU"
  },
  "cells": [
    {
      "cell_type": "markdown",
      "metadata": {
        "id": "view-in-github",
        "colab_type": "text"
      },
      "source": [
        "<a href=\"https://colab.research.google.com/github/vyzkhd/Deep-Learning-Projects/blob/master/Diabetes.ipynb\" target=\"_parent\"><img src=\"https://colab.research.google.com/assets/colab-badge.svg\" alt=\"Open In Colab\"/></a>"
      ]
    },
    {
      "cell_type": "code",
      "metadata": {
        "id": "nQVb-2q5wdx8",
        "colab_type": "code",
        "colab": {}
      },
      "source": [
        "from fastai.vision import *"
      ],
      "execution_count": 0,
      "outputs": []
    },
    {
      "cell_type": "code",
      "metadata": {
        "id": "vMKV8fk1wlb0",
        "colab_type": "code",
        "colab": {
          "base_uri": "https://localhost:8080/",
          "height": 34
        },
        "outputId": "912b8236-2e4e-4b41-9d0e-4d23f2bbc86a"
      },
      "source": [
        "from google.colab import drive\n",
        "drive.mount('/content/gdrive', force_remount=True)\n",
        "root_dir = \"/content/gdrive/My Drive/\"\n",
        "base_dir = root_dir + 'Projects/'"
      ],
      "execution_count": 14,
      "outputs": [
        {
          "output_type": "stream",
          "text": [
            "Mounted at /content/gdrive\n"
          ],
          "name": "stdout"
        }
      ]
    },
    {
      "cell_type": "code",
      "metadata": {
        "id": "NWLPbglDx95m",
        "colab_type": "code",
        "colab": {}
      },
      "source": [
        "path = Path(base_dir+'data/Diabetes')\n",
        "path.mkdir(parents=True,exist_ok=True)"
      ],
      "execution_count": 0,
      "outputs": []
    },
    {
      "cell_type": "code",
      "metadata": {
        "id": "At-gEqJwyVtj",
        "colab_type": "code",
        "colab": {
          "base_uri": "https://localhost:8080/",
          "height": 34
        },
        "outputId": "681d2244-01de-4fb2-992e-6250095b6d97"
      },
      "source": [
        "path.ls()"
      ],
      "execution_count": 20,
      "outputs": [
        {
          "output_type": "execute_result",
          "data": {
            "text/plain": [
              "[PosixPath('/content/gdrive/My Drive/Projects/data/Diabetes/diabetes.csv')]"
            ]
          },
          "metadata": {
            "tags": []
          },
          "execution_count": 20
        }
      ]
    },
    {
      "cell_type": "code",
      "metadata": {
        "id": "es8cKt5kzz3n",
        "colab_type": "code",
        "colab": {}
      },
      "source": [
        "df = pd.read_csv(path/'diabetes.csv')"
      ],
      "execution_count": 0,
      "outputs": []
    },
    {
      "cell_type": "code",
      "metadata": {
        "id": "CunJWDZ10Vzv",
        "colab_type": "code",
        "colab": {
          "base_uri": "https://localhost:8080/",
          "height": 204
        },
        "outputId": "2678b2e8-c450-4b1d-a6cd-83f88508288f"
      },
      "source": [
        "df.head()"
      ],
      "execution_count": 24,
      "outputs": [
        {
          "output_type": "execute_result",
          "data": {
            "text/html": [
              "<div>\n",
              "<style scoped>\n",
              "    .dataframe tbody tr th:only-of-type {\n",
              "        vertical-align: middle;\n",
              "    }\n",
              "\n",
              "    .dataframe tbody tr th {\n",
              "        vertical-align: top;\n",
              "    }\n",
              "\n",
              "    .dataframe thead th {\n",
              "        text-align: right;\n",
              "    }\n",
              "</style>\n",
              "<table border=\"1\" class=\"dataframe\">\n",
              "  <thead>\n",
              "    <tr style=\"text-align: right;\">\n",
              "      <th></th>\n",
              "      <th>Pregnancies</th>\n",
              "      <th>Glucose</th>\n",
              "      <th>BloodPressure</th>\n",
              "      <th>SkinThickness</th>\n",
              "      <th>Insulin</th>\n",
              "      <th>BMI</th>\n",
              "      <th>DiabetesPedigreeFunction</th>\n",
              "      <th>Age</th>\n",
              "      <th>Outcome</th>\n",
              "    </tr>\n",
              "  </thead>\n",
              "  <tbody>\n",
              "    <tr>\n",
              "      <th>0</th>\n",
              "      <td>6</td>\n",
              "      <td>148</td>\n",
              "      <td>72</td>\n",
              "      <td>35</td>\n",
              "      <td>0</td>\n",
              "      <td>33.6</td>\n",
              "      <td>0.627</td>\n",
              "      <td>50</td>\n",
              "      <td>1</td>\n",
              "    </tr>\n",
              "    <tr>\n",
              "      <th>1</th>\n",
              "      <td>1</td>\n",
              "      <td>85</td>\n",
              "      <td>66</td>\n",
              "      <td>29</td>\n",
              "      <td>0</td>\n",
              "      <td>26.6</td>\n",
              "      <td>0.351</td>\n",
              "      <td>31</td>\n",
              "      <td>0</td>\n",
              "    </tr>\n",
              "    <tr>\n",
              "      <th>2</th>\n",
              "      <td>8</td>\n",
              "      <td>183</td>\n",
              "      <td>64</td>\n",
              "      <td>0</td>\n",
              "      <td>0</td>\n",
              "      <td>23.3</td>\n",
              "      <td>0.672</td>\n",
              "      <td>32</td>\n",
              "      <td>1</td>\n",
              "    </tr>\n",
              "    <tr>\n",
              "      <th>3</th>\n",
              "      <td>1</td>\n",
              "      <td>89</td>\n",
              "      <td>66</td>\n",
              "      <td>23</td>\n",
              "      <td>94</td>\n",
              "      <td>28.1</td>\n",
              "      <td>0.167</td>\n",
              "      <td>21</td>\n",
              "      <td>0</td>\n",
              "    </tr>\n",
              "    <tr>\n",
              "      <th>4</th>\n",
              "      <td>0</td>\n",
              "      <td>137</td>\n",
              "      <td>40</td>\n",
              "      <td>35</td>\n",
              "      <td>168</td>\n",
              "      <td>43.1</td>\n",
              "      <td>2.288</td>\n",
              "      <td>33</td>\n",
              "      <td>1</td>\n",
              "    </tr>\n",
              "  </tbody>\n",
              "</table>\n",
              "</div>"
            ],
            "text/plain": [
              "   Pregnancies  Glucose  BloodPressure  ...  DiabetesPedigreeFunction  Age  Outcome\n",
              "0            6      148             72  ...                     0.627   50        1\n",
              "1            1       85             66  ...                     0.351   31        0\n",
              "2            8      183             64  ...                     0.672   32        1\n",
              "3            1       89             66  ...                     0.167   21        0\n",
              "4            0      137             40  ...                     2.288   33        1\n",
              "\n",
              "[5 rows x 9 columns]"
            ]
          },
          "metadata": {
            "tags": []
          },
          "execution_count": 24
        }
      ]
    },
    {
      "cell_type": "code",
      "metadata": {
        "id": "f2zBKK6K2cGz",
        "colab_type": "code",
        "colab": {
          "base_uri": "https://localhost:8080/",
          "height": 255
        },
        "outputId": "c8d01f7b-fbb0-4463-8cd7-060f4dde15cd"
      },
      "source": [
        "df.info()"
      ],
      "execution_count": 25,
      "outputs": [
        {
          "output_type": "stream",
          "text": [
            "<class 'pandas.core.frame.DataFrame'>\n",
            "RangeIndex: 768 entries, 0 to 767\n",
            "Data columns (total 9 columns):\n",
            "Pregnancies                 768 non-null int64\n",
            "Glucose                     768 non-null int64\n",
            "BloodPressure               768 non-null int64\n",
            "SkinThickness               768 non-null int64\n",
            "Insulin                     768 non-null int64\n",
            "BMI                         768 non-null float64\n",
            "DiabetesPedigreeFunction    768 non-null float64\n",
            "Age                         768 non-null int64\n",
            "Outcome                     768 non-null int64\n",
            "dtypes: float64(2), int64(7)\n",
            "memory usage: 54.1 KB\n"
          ],
          "name": "stdout"
        }
      ]
    },
    {
      "cell_type": "code",
      "metadata": {
        "id": "kBQXO_wq3Ura",
        "colab_type": "code",
        "colab": {
          "base_uri": "https://localhost:8080/",
          "height": 170
        },
        "outputId": "4c66a623-01cf-4ebd-b666-bebe0c28f6a0"
      },
      "source": [
        "for col in df.columns:\n",
        "  missing_rows = df[df[col]==0].shape[0]\n",
        "  print(col+' : '+str(missing_rows))"
      ],
      "execution_count": 29,
      "outputs": [
        {
          "output_type": "stream",
          "text": [
            "Pregnancies : 111\n",
            "Glucose : 5\n",
            "BloodPressure : 35\n",
            "SkinThickness : 227\n",
            "Insulin : 374\n",
            "BMI : 11\n",
            "DiabetesPedigreeFunction : 0\n",
            "Age : 0\n",
            "Outcome : 500\n"
          ],
          "name": "stdout"
        }
      ]
    },
    {
      "cell_type": "code",
      "metadata": {
        "id": "4J5f79Cm3xDs",
        "colab_type": "code",
        "colab": {}
      },
      "source": [
        "df.Glucose = df.Glucose.replace(0,np.nan)"
      ],
      "execution_count": 0,
      "outputs": []
    },
    {
      "cell_type": "code",
      "metadata": {
        "id": "Tja6FoOk4Qyb",
        "colab_type": "code",
        "colab": {}
      },
      "source": [
        "df.BloodPressure = df.BloodPressure.replace(0,np.nan)\n",
        "df.Insulin = df.Insulin.replace(0,np.nan)\n",
        "df.BMI = df.BMI.replace(0,np.nan)\n",
        "df.SkinThickness = df.SkinThickness.replace(0,np.nan)"
      ],
      "execution_count": 0,
      "outputs": []
    },
    {
      "cell_type": "code",
      "metadata": {
        "id": "2eCvGVNF4wDh",
        "colab_type": "code",
        "colab": {}
      },
      "source": [
        "df.Glucose = df.Glucose.fillna(df.Glucose.mean())\n",
        "df.BloodPressure = df.BloodPressure.fillna(df.BloodPressure.mean())\n",
        "df.Insulin = df.Insulin.fillna(df.Insulin.mean())\n",
        "df.BMI = df.BMI.fillna(df.BMI.mean())\n",
        "df.SkinThickness = df.SkinThickness.fillna(df.SkinThickness.mean())"
      ],
      "execution_count": 0,
      "outputs": []
    },
    {
      "cell_type": "code",
      "metadata": {
        "id": "AoGT7XWh5X6D",
        "colab_type": "code",
        "colab": {
          "base_uri": "https://localhost:8080/",
          "height": 359
        },
        "outputId": "af6d629d-5b1e-44b9-83ba-e5127f0ea4f9"
      },
      "source": [
        "df.sample(10)"
      ],
      "execution_count": 33,
      "outputs": [
        {
          "output_type": "execute_result",
          "data": {
            "text/html": [
              "<div>\n",
              "<style scoped>\n",
              "    .dataframe tbody tr th:only-of-type {\n",
              "        vertical-align: middle;\n",
              "    }\n",
              "\n",
              "    .dataframe tbody tr th {\n",
              "        vertical-align: top;\n",
              "    }\n",
              "\n",
              "    .dataframe thead th {\n",
              "        text-align: right;\n",
              "    }\n",
              "</style>\n",
              "<table border=\"1\" class=\"dataframe\">\n",
              "  <thead>\n",
              "    <tr style=\"text-align: right;\">\n",
              "      <th></th>\n",
              "      <th>Pregnancies</th>\n",
              "      <th>Glucose</th>\n",
              "      <th>BloodPressure</th>\n",
              "      <th>SkinThickness</th>\n",
              "      <th>Insulin</th>\n",
              "      <th>BMI</th>\n",
              "      <th>DiabetesPedigreeFunction</th>\n",
              "      <th>Age</th>\n",
              "      <th>Outcome</th>\n",
              "    </tr>\n",
              "  </thead>\n",
              "  <tbody>\n",
              "    <tr>\n",
              "      <th>664</th>\n",
              "      <td>6</td>\n",
              "      <td>115.0</td>\n",
              "      <td>60.000000</td>\n",
              "      <td>39.00000</td>\n",
              "      <td>155.548223</td>\n",
              "      <td>33.7</td>\n",
              "      <td>0.245</td>\n",
              "      <td>40</td>\n",
              "      <td>1</td>\n",
              "    </tr>\n",
              "    <tr>\n",
              "      <th>96</th>\n",
              "      <td>2</td>\n",
              "      <td>92.0</td>\n",
              "      <td>62.000000</td>\n",
              "      <td>28.00000</td>\n",
              "      <td>155.548223</td>\n",
              "      <td>31.6</td>\n",
              "      <td>0.130</td>\n",
              "      <td>24</td>\n",
              "      <td>0</td>\n",
              "    </tr>\n",
              "    <tr>\n",
              "      <th>137</th>\n",
              "      <td>0</td>\n",
              "      <td>93.0</td>\n",
              "      <td>60.000000</td>\n",
              "      <td>25.00000</td>\n",
              "      <td>92.000000</td>\n",
              "      <td>28.7</td>\n",
              "      <td>0.532</td>\n",
              "      <td>22</td>\n",
              "      <td>0</td>\n",
              "    </tr>\n",
              "    <tr>\n",
              "      <th>223</th>\n",
              "      <td>7</td>\n",
              "      <td>142.0</td>\n",
              "      <td>60.000000</td>\n",
              "      <td>33.00000</td>\n",
              "      <td>190.000000</td>\n",
              "      <td>28.8</td>\n",
              "      <td>0.687</td>\n",
              "      <td>61</td>\n",
              "      <td>0</td>\n",
              "    </tr>\n",
              "    <tr>\n",
              "      <th>363</th>\n",
              "      <td>4</td>\n",
              "      <td>146.0</td>\n",
              "      <td>78.000000</td>\n",
              "      <td>29.15342</td>\n",
              "      <td>155.548223</td>\n",
              "      <td>38.5</td>\n",
              "      <td>0.520</td>\n",
              "      <td>67</td>\n",
              "      <td>1</td>\n",
              "    </tr>\n",
              "    <tr>\n",
              "      <th>519</th>\n",
              "      <td>6</td>\n",
              "      <td>129.0</td>\n",
              "      <td>90.000000</td>\n",
              "      <td>7.00000</td>\n",
              "      <td>326.000000</td>\n",
              "      <td>19.6</td>\n",
              "      <td>0.582</td>\n",
              "      <td>60</td>\n",
              "      <td>0</td>\n",
              "    </tr>\n",
              "    <tr>\n",
              "      <th>587</th>\n",
              "      <td>6</td>\n",
              "      <td>103.0</td>\n",
              "      <td>66.000000</td>\n",
              "      <td>29.15342</td>\n",
              "      <td>155.548223</td>\n",
              "      <td>24.3</td>\n",
              "      <td>0.249</td>\n",
              "      <td>29</td>\n",
              "      <td>0</td>\n",
              "    </tr>\n",
              "    <tr>\n",
              "      <th>710</th>\n",
              "      <td>3</td>\n",
              "      <td>158.0</td>\n",
              "      <td>64.000000</td>\n",
              "      <td>13.00000</td>\n",
              "      <td>387.000000</td>\n",
              "      <td>31.2</td>\n",
              "      <td>0.295</td>\n",
              "      <td>24</td>\n",
              "      <td>0</td>\n",
              "    </tr>\n",
              "    <tr>\n",
              "      <th>286</th>\n",
              "      <td>5</td>\n",
              "      <td>155.0</td>\n",
              "      <td>84.000000</td>\n",
              "      <td>44.00000</td>\n",
              "      <td>545.000000</td>\n",
              "      <td>38.7</td>\n",
              "      <td>0.619</td>\n",
              "      <td>34</td>\n",
              "      <td>0</td>\n",
              "    </tr>\n",
              "    <tr>\n",
              "      <th>643</th>\n",
              "      <td>4</td>\n",
              "      <td>90.0</td>\n",
              "      <td>72.405184</td>\n",
              "      <td>29.15342</td>\n",
              "      <td>155.548223</td>\n",
              "      <td>28.0</td>\n",
              "      <td>0.610</td>\n",
              "      <td>31</td>\n",
              "      <td>0</td>\n",
              "    </tr>\n",
              "  </tbody>\n",
              "</table>\n",
              "</div>"
            ],
            "text/plain": [
              "     Pregnancies  Glucose  ...  Age  Outcome\n",
              "664            6    115.0  ...   40        1\n",
              "96             2     92.0  ...   24        0\n",
              "137            0     93.0  ...   22        0\n",
              "223            7    142.0  ...   61        0\n",
              "363            4    146.0  ...   67        1\n",
              "519            6    129.0  ...   60        0\n",
              "587            6    103.0  ...   29        0\n",
              "710            3    158.0  ...   24        0\n",
              "286            5    155.0  ...   34        0\n",
              "643            4     90.0  ...   31        0\n",
              "\n",
              "[10 rows x 9 columns]"
            ]
          },
          "metadata": {
            "tags": []
          },
          "execution_count": 33
        }
      ]
    },
    {
      "cell_type": "code",
      "metadata": {
        "id": "_tjdFQDT5aHo",
        "colab_type": "code",
        "colab": {}
      },
      "source": [
        "from sklearn import preprocessing\n",
        "df2 = preprocessing.scale(df)"
      ],
      "execution_count": 0,
      "outputs": []
    },
    {
      "cell_type": "code",
      "metadata": {
        "id": "4GUkaLTg5pHk",
        "colab_type": "code",
        "colab": {}
      },
      "source": [
        "df2 = pd.DataFrame(df2,columns=df.columns)"
      ],
      "execution_count": 0,
      "outputs": []
    },
    {
      "cell_type": "code",
      "metadata": {
        "id": "qqO2M6-G5tJP",
        "colab_type": "code",
        "colab": {
          "base_uri": "https://localhost:8080/",
          "height": 359
        },
        "outputId": "282d37f3-de5e-46ab-f44c-6a914f9b0e90"
      },
      "source": [
        "df2.sample(10)"
      ],
      "execution_count": 47,
      "outputs": [
        {
          "output_type": "execute_result",
          "data": {
            "text/html": [
              "<div>\n",
              "<style scoped>\n",
              "    .dataframe tbody tr th:only-of-type {\n",
              "        vertical-align: middle;\n",
              "    }\n",
              "\n",
              "    .dataframe tbody tr th {\n",
              "        vertical-align: top;\n",
              "    }\n",
              "\n",
              "    .dataframe thead th {\n",
              "        text-align: right;\n",
              "    }\n",
              "</style>\n",
              "<table border=\"1\" class=\"dataframe\">\n",
              "  <thead>\n",
              "    <tr style=\"text-align: right;\">\n",
              "      <th></th>\n",
              "      <th>Pregnancies</th>\n",
              "      <th>Glucose</th>\n",
              "      <th>BloodPressure</th>\n",
              "      <th>SkinThickness</th>\n",
              "      <th>Insulin</th>\n",
              "      <th>BMI</th>\n",
              "      <th>DiabetesPedigreeFunction</th>\n",
              "      <th>Age</th>\n",
              "      <th>Outcome</th>\n",
              "    </tr>\n",
              "  </thead>\n",
              "  <tbody>\n",
              "    <tr>\n",
              "      <th>39</th>\n",
              "      <td>0.046014</td>\n",
              "      <td>-0.351352</td>\n",
              "      <td>-0.033518</td>\n",
              "      <td>2.031433e+00</td>\n",
              "      <td>6.055591e-01</td>\n",
              "      <td>0.675703</td>\n",
              "      <td>2.772843</td>\n",
              "      <td>1.936522</td>\n",
              "      <td>1</td>\n",
              "    </tr>\n",
              "    <tr>\n",
              "      <th>642</th>\n",
              "      <td>0.639947</td>\n",
              "      <td>0.832231</td>\n",
              "      <td>0.628269</td>\n",
              "      <td>8.087936e-16</td>\n",
              "      <td>-3.345079e-16</td>\n",
              "      <td>-0.430447</td>\n",
              "      <td>-0.887541</td>\n",
              "      <td>1.425995</td>\n",
              "      <td>1</td>\n",
              "    </tr>\n",
              "    <tr>\n",
              "      <th>104</th>\n",
              "      <td>-0.547919</td>\n",
              "      <td>-1.206162</td>\n",
              "      <td>-0.612582</td>\n",
              "      <td>8.087936e-16</td>\n",
              "      <td>-3.345079e-16</td>\n",
              "      <td>1.039569</td>\n",
              "      <td>1.383588</td>\n",
              "      <td>-0.531023</td>\n",
              "      <td>0</td>\n",
              "    </tr>\n",
              "    <tr>\n",
              "      <th>289</th>\n",
              "      <td>0.342981</td>\n",
              "      <td>-0.449984</td>\n",
              "      <td>-0.033518</td>\n",
              "      <td>1.576123e+00</td>\n",
              "      <td>-9.480083e-01</td>\n",
              "      <td>0.530157</td>\n",
              "      <td>-0.630831</td>\n",
              "      <td>-0.020496</td>\n",
              "      <td>0</td>\n",
              "    </tr>\n",
              "    <tr>\n",
              "      <th>676</th>\n",
              "      <td>1.530847</td>\n",
              "      <td>1.128126</td>\n",
              "      <td>1.124610</td>\n",
              "      <td>8.087936e-16</td>\n",
              "      <td>-3.345079e-16</td>\n",
              "      <td>-1.114514</td>\n",
              "      <td>-0.730495</td>\n",
              "      <td>1.681259</td>\n",
              "      <td>1</td>\n",
              "    </tr>\n",
              "    <tr>\n",
              "      <th>270</th>\n",
              "      <td>1.827813</td>\n",
              "      <td>-0.680125</td>\n",
              "      <td>1.124610</td>\n",
              "      <td>8.931573e-01</td>\n",
              "      <td>-3.345079e-16</td>\n",
              "      <td>1.912845</td>\n",
              "      <td>2.005732</td>\n",
              "      <td>0.404942</td>\n",
              "      <td>1</td>\n",
              "    </tr>\n",
              "    <tr>\n",
              "      <th>448</th>\n",
              "      <td>-1.141852</td>\n",
              "      <td>-0.581493</td>\n",
              "      <td>-0.695306</td>\n",
              "      <td>8.931573e-01</td>\n",
              "      <td>-1.077472e+00</td>\n",
              "      <td>0.166292</td>\n",
              "      <td>0.115138</td>\n",
              "      <td>-0.956462</td>\n",
              "      <td>1</td>\n",
              "    </tr>\n",
              "    <tr>\n",
              "      <th>636</th>\n",
              "      <td>0.342981</td>\n",
              "      <td>-0.581493</td>\n",
              "      <td>0.131929</td>\n",
              "      <td>8.087936e-16</td>\n",
              "      <td>-3.345079e-16</td>\n",
              "      <td>-0.532330</td>\n",
              "      <td>-0.963044</td>\n",
              "      <td>1.255820</td>\n",
              "      <td>0</td>\n",
              "    </tr>\n",
              "    <tr>\n",
              "      <th>219</th>\n",
              "      <td>0.342981</td>\n",
              "      <td>-0.318475</td>\n",
              "      <td>-0.529859</td>\n",
              "      <td>8.087936e-16</td>\n",
              "      <td>-3.345079e-16</td>\n",
              "      <td>0.777585</td>\n",
              "      <td>-0.636871</td>\n",
              "      <td>0.660206</td>\n",
              "      <td>1</td>\n",
              "    </tr>\n",
              "    <tr>\n",
              "      <th>664</th>\n",
              "      <td>0.639947</td>\n",
              "      <td>-0.219843</td>\n",
              "      <td>-1.026200</td>\n",
              "      <td>1.120812e+00</td>\n",
              "      <td>-3.345079e-16</td>\n",
              "      <td>0.180846</td>\n",
              "      <td>-0.685193</td>\n",
              "      <td>0.575118</td>\n",
              "      <td>1</td>\n",
              "    </tr>\n",
              "  </tbody>\n",
              "</table>\n",
              "</div>"
            ],
            "text/plain": [
              "     Pregnancies   Glucose  ...       Age  Outcome\n",
              "39      0.046014 -0.351352  ...  1.936522        1\n",
              "642     0.639947  0.832231  ...  1.425995        1\n",
              "104    -0.547919 -1.206162  ... -0.531023        0\n",
              "289     0.342981 -0.449984  ... -0.020496        0\n",
              "676     1.530847  1.128126  ...  1.681259        1\n",
              "270     1.827813 -0.680125  ...  0.404942        1\n",
              "448    -1.141852 -0.581493  ... -0.956462        1\n",
              "636     0.342981 -0.581493  ...  1.255820        0\n",
              "219     0.342981 -0.318475  ...  0.660206        1\n",
              "664     0.639947 -0.219843  ...  0.575118        1\n",
              "\n",
              "[10 rows x 9 columns]"
            ]
          },
          "metadata": {
            "tags": []
          },
          "execution_count": 47
        }
      ]
    },
    {
      "cell_type": "code",
      "metadata": {
        "id": "yM0rNXki6AqC",
        "colab_type": "code",
        "colab": {}
      },
      "source": [
        "df2.Outcome = df.Outcome"
      ],
      "execution_count": 0,
      "outputs": []
    },
    {
      "cell_type": "code",
      "metadata": {
        "id": "-o9T9edg6FQy",
        "colab_type": "code",
        "colab": {}
      },
      "source": [
        "from sklearn.model_selection import train_test_split\n"
      ],
      "execution_count": 0,
      "outputs": []
    },
    {
      "cell_type": "code",
      "metadata": {
        "id": "8IvMi-Os6qgl",
        "colab_type": "code",
        "colab": {}
      },
      "source": [
        "y = df2.Outcome\n",
        "X = df2.drop(['Outcome'],axis=1)"
      ],
      "execution_count": 0,
      "outputs": []
    },
    {
      "cell_type": "code",
      "metadata": {
        "id": "nymxLLPH6Qvl",
        "colab_type": "code",
        "colab": {}
      },
      "source": [
        "X_train,X_test,y_train,y_test = train_test_split(X,y,test_size=0.2)\n",
        "X_train,X_val,y_train,y_val = train_test_split(X_train,y_train,test_size=0.2)"
      ],
      "execution_count": 0,
      "outputs": []
    },
    {
      "cell_type": "code",
      "metadata": {
        "id": "UvGN2-W66-VO",
        "colab_type": "code",
        "colab": {
          "base_uri": "https://localhost:8080/",
          "height": 34
        },
        "outputId": "a4a44917-9ee9-46c3-95cf-e108a0cf0277"
      },
      "source": [
        "from keras.models import Sequential"
      ],
      "execution_count": 46,
      "outputs": [
        {
          "output_type": "stream",
          "text": [
            "Using TensorFlow backend.\n"
          ],
          "name": "stderr"
        }
      ]
    },
    {
      "cell_type": "code",
      "metadata": {
        "id": "Jlga7RTO7Kjg",
        "colab_type": "code",
        "colab": {
          "base_uri": "https://localhost:8080/",
          "height": 88
        },
        "outputId": "b4b49515-d687-4e40-d185-90f6b995fcf3"
      },
      "source": [
        "model = Sequential()"
      ],
      "execution_count": 50,
      "outputs": [
        {
          "output_type": "stream",
          "text": [
            "WARNING: Logging before flag parsing goes to stderr.\n",
            "W0802 06:57:01.810088 140165700573056 deprecation_wrapper.py:119] From /usr/local/lib/python3.6/dist-packages/keras/backend/tensorflow_backend.py:74: The name tf.get_default_graph is deprecated. Please use tf.compat.v1.get_default_graph instead.\n",
            "\n"
          ],
          "name": "stderr"
        }
      ]
    },
    {
      "cell_type": "code",
      "metadata": {
        "id": "lZhW6GMYHnoF",
        "colab_type": "code",
        "colab": {}
      },
      "source": [
        "from keras.layers import Dense"
      ],
      "execution_count": 0,
      "outputs": []
    },
    {
      "cell_type": "code",
      "metadata": {
        "id": "ShLVX_h8IAzo",
        "colab_type": "code",
        "colab": {
          "base_uri": "https://localhost:8080/",
          "height": 105
        },
        "outputId": "2d4f1036-1034-4bcc-9650-409999bdecd4"
      },
      "source": [
        "model.add(Dense(32,activation='relu',input_dim=8))"
      ],
      "execution_count": 52,
      "outputs": [
        {
          "output_type": "stream",
          "text": [
            "W0802 07:11:10.842998 140165700573056 deprecation_wrapper.py:119] From /usr/local/lib/python3.6/dist-packages/keras/backend/tensorflow_backend.py:517: The name tf.placeholder is deprecated. Please use tf.compat.v1.placeholder instead.\n",
            "\n",
            "W0802 07:11:10.860547 140165700573056 deprecation_wrapper.py:119] From /usr/local/lib/python3.6/dist-packages/keras/backend/tensorflow_backend.py:4138: The name tf.random_uniform is deprecated. Please use tf.random.uniform instead.\n",
            "\n"
          ],
          "name": "stderr"
        }
      ]
    },
    {
      "cell_type": "code",
      "metadata": {
        "id": "VR6ACWJSK25_",
        "colab_type": "code",
        "colab": {}
      },
      "source": [
        "model.add(Dense(16,activation='relu'))"
      ],
      "execution_count": 0,
      "outputs": []
    },
    {
      "cell_type": "code",
      "metadata": {
        "id": "hVWslYjbLAkG",
        "colab_type": "code",
        "colab": {}
      },
      "source": [
        "model.add(Dense(1,activation='sigmoid'))"
      ],
      "execution_count": 0,
      "outputs": []
    },
    {
      "cell_type": "code",
      "metadata": {
        "id": "VKzagK6CN-AY",
        "colab_type": "code",
        "colab": {
          "base_uri": "https://localhost:8080/",
          "height": 156
        },
        "outputId": "e62b3f47-dc4f-4fc2-a464-22b35fbae4dd"
      },
      "source": [
        "model.compile(optimizer='adam',loss='binary_crossentropy',metrics=['accuracy'])"
      ],
      "execution_count": 55,
      "outputs": [
        {
          "output_type": "stream",
          "text": [
            "W0802 07:26:01.712546 140165700573056 deprecation_wrapper.py:119] From /usr/local/lib/python3.6/dist-packages/keras/optimizers.py:790: The name tf.train.Optimizer is deprecated. Please use tf.compat.v1.train.Optimizer instead.\n",
            "\n",
            "W0802 07:26:01.746268 140165700573056 deprecation_wrapper.py:119] From /usr/local/lib/python3.6/dist-packages/keras/backend/tensorflow_backend.py:3376: The name tf.log is deprecated. Please use tf.math.log instead.\n",
            "\n",
            "W0802 07:26:01.756022 140165700573056 deprecation.py:323] From /usr/local/lib/python3.6/dist-packages/tensorflow/python/ops/nn_impl.py:180: add_dispatch_support.<locals>.wrapper (from tensorflow.python.ops.array_ops) is deprecated and will be removed in a future version.\n",
            "Instructions for updating:\n",
            "Use tf.where in 2.0, which has the same broadcast rule as np.where\n"
          ],
          "name": "stderr"
        }
      ]
    },
    {
      "cell_type": "code",
      "metadata": {
        "id": "-t8D4M_bOQYj",
        "colab_type": "code",
        "colab": {
          "base_uri": "https://localhost:8080/",
          "height": 1000
        },
        "outputId": "9a2b9a3e-7d78-4b5c-be12-7bd7b37517c4"
      },
      "source": [
        "model.fit(X_train,y_train,epochs=200)"
      ],
      "execution_count": 56,
      "outputs": [
        {
          "output_type": "stream",
          "text": [
            "W0802 07:26:48.391870 140165700573056 deprecation_wrapper.py:119] From /usr/local/lib/python3.6/dist-packages/keras/backend/tensorflow_backend.py:986: The name tf.assign_add is deprecated. Please use tf.compat.v1.assign_add instead.\n",
            "\n"
          ],
          "name": "stderr"
        },
        {
          "output_type": "stream",
          "text": [
            "Epoch 1/200\n",
            "491/491 [==============================] - 9s 18ms/step - loss: 0.6058 - acc: 0.7475\n",
            "Epoch 2/200\n",
            "491/491 [==============================] - 0s 132us/step - loss: 0.5665 - acc: 0.7536\n",
            "Epoch 3/200\n",
            "491/491 [==============================] - 0s 136us/step - loss: 0.5342 - acc: 0.7556\n",
            "Epoch 4/200\n",
            "491/491 [==============================] - 0s 166us/step - loss: 0.5090 - acc: 0.7597\n",
            "Epoch 5/200\n",
            "491/491 [==============================] - 0s 149us/step - loss: 0.4907 - acc: 0.7556\n",
            "Epoch 6/200\n",
            "491/491 [==============================] - 0s 142us/step - loss: 0.4779 - acc: 0.7597\n",
            "Epoch 7/200\n",
            "491/491 [==============================] - 0s 146us/step - loss: 0.4681 - acc: 0.7576\n",
            "Epoch 8/200\n",
            "491/491 [==============================] - 0s 156us/step - loss: 0.4611 - acc: 0.7617\n",
            "Epoch 9/200\n",
            "491/491 [==============================] - 0s 158us/step - loss: 0.4556 - acc: 0.7719\n",
            "Epoch 10/200\n",
            "491/491 [==============================] - 0s 169us/step - loss: 0.4506 - acc: 0.7699\n",
            "Epoch 11/200\n",
            "491/491 [==============================] - 0s 164us/step - loss: 0.4471 - acc: 0.7739\n",
            "Epoch 12/200\n",
            "491/491 [==============================] - 0s 151us/step - loss: 0.4428 - acc: 0.7739\n",
            "Epoch 13/200\n",
            "491/491 [==============================] - 0s 153us/step - loss: 0.4399 - acc: 0.7699\n",
            "Epoch 14/200\n",
            "491/491 [==============================] - 0s 132us/step - loss: 0.4363 - acc: 0.7862\n",
            "Epoch 15/200\n",
            "491/491 [==============================] - 0s 152us/step - loss: 0.4334 - acc: 0.7862\n",
            "Epoch 16/200\n",
            "491/491 [==============================] - 0s 148us/step - loss: 0.4308 - acc: 0.7800\n",
            "Epoch 17/200\n",
            "491/491 [==============================] - 0s 160us/step - loss: 0.4282 - acc: 0.7841\n",
            "Epoch 18/200\n",
            "491/491 [==============================] - 0s 143us/step - loss: 0.4266 - acc: 0.7821\n",
            "Epoch 19/200\n",
            "491/491 [==============================] - 0s 141us/step - loss: 0.4238 - acc: 0.7841\n",
            "Epoch 20/200\n",
            "491/491 [==============================] - 0s 140us/step - loss: 0.4206 - acc: 0.7902\n",
            "Epoch 21/200\n",
            "491/491 [==============================] - 0s 158us/step - loss: 0.4189 - acc: 0.7923\n",
            "Epoch 22/200\n",
            "491/491 [==============================] - 0s 148us/step - loss: 0.4168 - acc: 0.7943\n",
            "Epoch 23/200\n",
            "491/491 [==============================] - 0s 144us/step - loss: 0.4144 - acc: 0.7963\n",
            "Epoch 24/200\n",
            "491/491 [==============================] - 0s 161us/step - loss: 0.4129 - acc: 0.7984\n",
            "Epoch 25/200\n",
            "491/491 [==============================] - 0s 168us/step - loss: 0.4100 - acc: 0.8065\n",
            "Epoch 26/200\n",
            "491/491 [==============================] - 0s 166us/step - loss: 0.4090 - acc: 0.8004\n",
            "Epoch 27/200\n",
            "491/491 [==============================] - 0s 158us/step - loss: 0.4065 - acc: 0.7984\n",
            "Epoch 28/200\n",
            "491/491 [==============================] - 0s 152us/step - loss: 0.4045 - acc: 0.8045\n",
            "Epoch 29/200\n",
            "491/491 [==============================] - 0s 159us/step - loss: 0.4035 - acc: 0.8106\n",
            "Epoch 30/200\n",
            "491/491 [==============================] - 0s 186us/step - loss: 0.4014 - acc: 0.8065\n",
            "Epoch 31/200\n",
            "491/491 [==============================] - 0s 155us/step - loss: 0.3990 - acc: 0.8106\n",
            "Epoch 32/200\n",
            "491/491 [==============================] - 0s 160us/step - loss: 0.3974 - acc: 0.8106\n",
            "Epoch 33/200\n",
            "491/491 [==============================] - 0s 159us/step - loss: 0.3948 - acc: 0.8147\n",
            "Epoch 34/200\n",
            "491/491 [==============================] - 0s 172us/step - loss: 0.3943 - acc: 0.8147\n",
            "Epoch 35/200\n",
            "491/491 [==============================] - 0s 160us/step - loss: 0.3932 - acc: 0.8086\n",
            "Epoch 36/200\n",
            "491/491 [==============================] - 0s 159us/step - loss: 0.3917 - acc: 0.8126\n",
            "Epoch 37/200\n",
            "491/491 [==============================] - 0s 158us/step - loss: 0.3892 - acc: 0.8208\n",
            "Epoch 38/200\n",
            "491/491 [==============================] - 0s 168us/step - loss: 0.3868 - acc: 0.8208\n",
            "Epoch 39/200\n",
            "491/491 [==============================] - 0s 162us/step - loss: 0.3859 - acc: 0.8106\n",
            "Epoch 40/200\n",
            "491/491 [==============================] - 0s 172us/step - loss: 0.3838 - acc: 0.8208\n",
            "Epoch 41/200\n",
            "491/491 [==============================] - 0s 163us/step - loss: 0.3829 - acc: 0.8228\n",
            "Epoch 42/200\n",
            "491/491 [==============================] - 0s 183us/step - loss: 0.3807 - acc: 0.8208\n",
            "Epoch 43/200\n",
            "491/491 [==============================] - 0s 192us/step - loss: 0.3796 - acc: 0.8208\n",
            "Epoch 44/200\n",
            "491/491 [==============================] - 0s 147us/step - loss: 0.3774 - acc: 0.8228\n",
            "Epoch 45/200\n",
            "491/491 [==============================] - 0s 155us/step - loss: 0.3760 - acc: 0.8228\n",
            "Epoch 46/200\n",
            "491/491 [==============================] - 0s 151us/step - loss: 0.3746 - acc: 0.8248\n",
            "Epoch 47/200\n",
            "491/491 [==============================] - 0s 159us/step - loss: 0.3734 - acc: 0.8208\n",
            "Epoch 48/200\n",
            "491/491 [==============================] - 0s 168us/step - loss: 0.3721 - acc: 0.8208\n",
            "Epoch 49/200\n",
            "491/491 [==============================] - 0s 168us/step - loss: 0.3702 - acc: 0.8187\n",
            "Epoch 50/200\n",
            "491/491 [==============================] - 0s 163us/step - loss: 0.3689 - acc: 0.8269\n",
            "Epoch 51/200\n",
            "491/491 [==============================] - 0s 153us/step - loss: 0.3675 - acc: 0.8228\n",
            "Epoch 52/200\n",
            "491/491 [==============================] - 0s 164us/step - loss: 0.3673 - acc: 0.8228\n",
            "Epoch 53/200\n",
            "491/491 [==============================] - 0s 158us/step - loss: 0.3647 - acc: 0.8248\n",
            "Epoch 54/200\n",
            "491/491 [==============================] - 0s 160us/step - loss: 0.3635 - acc: 0.8248\n",
            "Epoch 55/200\n",
            "491/491 [==============================] - 0s 190us/step - loss: 0.3624 - acc: 0.8248\n",
            "Epoch 56/200\n",
            "491/491 [==============================] - 0s 177us/step - loss: 0.3611 - acc: 0.8228\n",
            "Epoch 57/200\n",
            "491/491 [==============================] - 0s 168us/step - loss: 0.3596 - acc: 0.8248\n",
            "Epoch 58/200\n",
            "491/491 [==============================] - 0s 155us/step - loss: 0.3586 - acc: 0.8248\n",
            "Epoch 59/200\n",
            "491/491 [==============================] - 0s 155us/step - loss: 0.3576 - acc: 0.8289\n",
            "Epoch 60/200\n",
            "491/491 [==============================] - 0s 159us/step - loss: 0.3563 - acc: 0.8248\n",
            "Epoch 61/200\n",
            "491/491 [==============================] - 0s 160us/step - loss: 0.3553 - acc: 0.8269\n",
            "Epoch 62/200\n",
            "491/491 [==============================] - 0s 169us/step - loss: 0.3540 - acc: 0.8330\n",
            "Epoch 63/200\n",
            "491/491 [==============================] - 0s 159us/step - loss: 0.3521 - acc: 0.8371\n",
            "Epoch 64/200\n",
            "491/491 [==============================] - 0s 161us/step - loss: 0.3514 - acc: 0.8350\n",
            "Epoch 65/200\n",
            "491/491 [==============================] - 0s 156us/step - loss: 0.3502 - acc: 0.8371\n",
            "Epoch 66/200\n",
            "491/491 [==============================] - 0s 161us/step - loss: 0.3496 - acc: 0.8371\n",
            "Epoch 67/200\n",
            "491/491 [==============================] - 0s 170us/step - loss: 0.3489 - acc: 0.8371\n",
            "Epoch 68/200\n",
            "491/491 [==============================] - 0s 190us/step - loss: 0.3467 - acc: 0.8391\n",
            "Epoch 69/200\n",
            "491/491 [==============================] - 0s 161us/step - loss: 0.3462 - acc: 0.8371\n",
            "Epoch 70/200\n",
            "491/491 [==============================] - 0s 155us/step - loss: 0.3457 - acc: 0.8432\n",
            "Epoch 71/200\n",
            "491/491 [==============================] - 0s 168us/step - loss: 0.3445 - acc: 0.8310\n",
            "Epoch 72/200\n",
            "491/491 [==============================] - 0s 158us/step - loss: 0.3427 - acc: 0.8330\n",
            "Epoch 73/200\n",
            "491/491 [==============================] - 0s 156us/step - loss: 0.3418 - acc: 0.8493\n",
            "Epoch 74/200\n",
            "491/491 [==============================] - 0s 165us/step - loss: 0.3407 - acc: 0.8473\n",
            "Epoch 75/200\n",
            "491/491 [==============================] - 0s 158us/step - loss: 0.3396 - acc: 0.8452\n",
            "Epoch 76/200\n",
            "491/491 [==============================] - 0s 154us/step - loss: 0.3390 - acc: 0.8452\n",
            "Epoch 77/200\n",
            "491/491 [==============================] - 0s 152us/step - loss: 0.3376 - acc: 0.8432\n",
            "Epoch 78/200\n",
            "491/491 [==============================] - 0s 167us/step - loss: 0.3360 - acc: 0.8513\n",
            "Epoch 79/200\n",
            "491/491 [==============================] - 0s 181us/step - loss: 0.3356 - acc: 0.8534\n",
            "Epoch 80/200\n",
            "491/491 [==============================] - 0s 183us/step - loss: 0.3341 - acc: 0.8473\n",
            "Epoch 81/200\n",
            "491/491 [==============================] - 0s 161us/step - loss: 0.3332 - acc: 0.8554\n",
            "Epoch 82/200\n",
            "491/491 [==============================] - 0s 159us/step - loss: 0.3320 - acc: 0.8473\n",
            "Epoch 83/200\n",
            "491/491 [==============================] - 0s 161us/step - loss: 0.3314 - acc: 0.8534\n",
            "Epoch 84/200\n",
            "491/491 [==============================] - 0s 158us/step - loss: 0.3306 - acc: 0.8493\n",
            "Epoch 85/200\n",
            "491/491 [==============================] - 0s 157us/step - loss: 0.3299 - acc: 0.8554\n",
            "Epoch 86/200\n",
            "491/491 [==============================] - 0s 171us/step - loss: 0.3278 - acc: 0.8635\n",
            "Epoch 87/200\n",
            "491/491 [==============================] - 0s 154us/step - loss: 0.3272 - acc: 0.8574\n",
            "Epoch 88/200\n",
            "491/491 [==============================] - 0s 164us/step - loss: 0.3260 - acc: 0.8595\n",
            "Epoch 89/200\n",
            "491/491 [==============================] - 0s 152us/step - loss: 0.3267 - acc: 0.8574\n",
            "Epoch 90/200\n",
            "491/491 [==============================] - 0s 153us/step - loss: 0.3238 - acc: 0.8574\n",
            "Epoch 91/200\n",
            "491/491 [==============================] - 0s 161us/step - loss: 0.3231 - acc: 0.8615\n",
            "Epoch 92/200\n",
            "491/491 [==============================] - 0s 151us/step - loss: 0.3217 - acc: 0.8615\n",
            "Epoch 93/200\n",
            "491/491 [==============================] - 0s 177us/step - loss: 0.3209 - acc: 0.8656\n",
            "Epoch 94/200\n",
            "491/491 [==============================] - 0s 161us/step - loss: 0.3203 - acc: 0.8635\n",
            "Epoch 95/200\n",
            "491/491 [==============================] - 0s 160us/step - loss: 0.3199 - acc: 0.8595\n",
            "Epoch 96/200\n",
            "491/491 [==============================] - 0s 161us/step - loss: 0.3172 - acc: 0.8656\n",
            "Epoch 97/200\n",
            "491/491 [==============================] - 0s 157us/step - loss: 0.3170 - acc: 0.8615\n",
            "Epoch 98/200\n",
            "491/491 [==============================] - 0s 157us/step - loss: 0.3163 - acc: 0.8656\n",
            "Epoch 99/200\n",
            "491/491 [==============================] - 0s 162us/step - loss: 0.3152 - acc: 0.8635\n",
            "Epoch 100/200\n",
            "491/491 [==============================] - 0s 152us/step - loss: 0.3144 - acc: 0.8615\n",
            "Epoch 101/200\n",
            "491/491 [==============================] - 0s 158us/step - loss: 0.3130 - acc: 0.8676\n",
            "Epoch 102/200\n",
            "491/491 [==============================] - 0s 155us/step - loss: 0.3128 - acc: 0.8615\n",
            "Epoch 103/200\n",
            "491/491 [==============================] - 0s 170us/step - loss: 0.3107 - acc: 0.8656\n",
            "Epoch 104/200\n",
            "491/491 [==============================] - 0s 175us/step - loss: 0.3100 - acc: 0.8635\n",
            "Epoch 105/200\n",
            "491/491 [==============================] - 0s 163us/step - loss: 0.3086 - acc: 0.8635\n",
            "Epoch 106/200\n",
            "491/491 [==============================] - 0s 196us/step - loss: 0.3067 - acc: 0.8697\n",
            "Epoch 107/200\n",
            "491/491 [==============================] - 0s 165us/step - loss: 0.3068 - acc: 0.8697\n",
            "Epoch 108/200\n",
            "491/491 [==============================] - 0s 149us/step - loss: 0.3052 - acc: 0.8717\n",
            "Epoch 109/200\n",
            "491/491 [==============================] - 0s 156us/step - loss: 0.3051 - acc: 0.8717\n",
            "Epoch 110/200\n",
            "491/491 [==============================] - 0s 151us/step - loss: 0.3033 - acc: 0.8717\n",
            "Epoch 111/200\n",
            "491/491 [==============================] - 0s 162us/step - loss: 0.3015 - acc: 0.8717\n",
            "Epoch 112/200\n",
            "491/491 [==============================] - 0s 158us/step - loss: 0.3010 - acc: 0.8758\n",
            "Epoch 113/200\n",
            "491/491 [==============================] - 0s 154us/step - loss: 0.3012 - acc: 0.8676\n",
            "Epoch 114/200\n",
            "491/491 [==============================] - 0s 158us/step - loss: 0.2994 - acc: 0.8717\n",
            "Epoch 115/200\n",
            "491/491 [==============================] - 0s 160us/step - loss: 0.2989 - acc: 0.8737\n",
            "Epoch 116/200\n",
            "491/491 [==============================] - 0s 160us/step - loss: 0.2970 - acc: 0.8819\n",
            "Epoch 117/200\n",
            "491/491 [==============================] - 0s 163us/step - loss: 0.2959 - acc: 0.8778\n",
            "Epoch 118/200\n",
            "491/491 [==============================] - 0s 174us/step - loss: 0.2945 - acc: 0.8737\n",
            "Epoch 119/200\n",
            "491/491 [==============================] - 0s 177us/step - loss: 0.2941 - acc: 0.8798\n",
            "Epoch 120/200\n",
            "491/491 [==============================] - 0s 175us/step - loss: 0.2935 - acc: 0.8778\n",
            "Epoch 121/200\n",
            "491/491 [==============================] - 0s 181us/step - loss: 0.2928 - acc: 0.8819\n",
            "Epoch 122/200\n",
            "491/491 [==============================] - 0s 177us/step - loss: 0.2908 - acc: 0.8758\n",
            "Epoch 123/200\n",
            "491/491 [==============================] - 0s 169us/step - loss: 0.2896 - acc: 0.8737\n",
            "Epoch 124/200\n",
            "491/491 [==============================] - 0s 169us/step - loss: 0.2881 - acc: 0.8758\n",
            "Epoch 125/200\n",
            "491/491 [==============================] - 0s 163us/step - loss: 0.2887 - acc: 0.8737\n",
            "Epoch 126/200\n",
            "491/491 [==============================] - 0s 176us/step - loss: 0.2862 - acc: 0.8758\n",
            "Epoch 127/200\n",
            "491/491 [==============================] - 0s 171us/step - loss: 0.2856 - acc: 0.8798\n",
            "Epoch 128/200\n",
            "491/491 [==============================] - 0s 161us/step - loss: 0.2861 - acc: 0.8737\n",
            "Epoch 129/200\n",
            "491/491 [==============================] - 0s 171us/step - loss: 0.2848 - acc: 0.8819\n",
            "Epoch 130/200\n",
            "491/491 [==============================] - 0s 171us/step - loss: 0.2824 - acc: 0.8798\n",
            "Epoch 131/200\n",
            "491/491 [==============================] - 0s 161us/step - loss: 0.2818 - acc: 0.8839\n",
            "Epoch 132/200\n",
            "491/491 [==============================] - 0s 153us/step - loss: 0.2837 - acc: 0.8819\n",
            "Epoch 133/200\n",
            "491/491 [==============================] - 0s 152us/step - loss: 0.2835 - acc: 0.8778\n",
            "Epoch 134/200\n",
            "491/491 [==============================] - 0s 162us/step - loss: 0.2782 - acc: 0.8819\n",
            "Epoch 135/200\n",
            "491/491 [==============================] - 0s 150us/step - loss: 0.2773 - acc: 0.8758\n",
            "Epoch 136/200\n",
            "491/491 [==============================] - 0s 160us/step - loss: 0.2773 - acc: 0.8819\n",
            "Epoch 137/200\n",
            "491/491 [==============================] - 0s 152us/step - loss: 0.2759 - acc: 0.8798\n",
            "Epoch 138/200\n",
            "491/491 [==============================] - 0s 153us/step - loss: 0.2746 - acc: 0.8859\n",
            "Epoch 139/200\n",
            "491/491 [==============================] - 0s 168us/step - loss: 0.2734 - acc: 0.8819\n",
            "Epoch 140/200\n",
            "491/491 [==============================] - 0s 162us/step - loss: 0.2716 - acc: 0.8819\n",
            "Epoch 141/200\n",
            "491/491 [==============================] - 0s 151us/step - loss: 0.2713 - acc: 0.8859\n",
            "Epoch 142/200\n",
            "491/491 [==============================] - 0s 157us/step - loss: 0.2723 - acc: 0.8798\n",
            "Epoch 143/200\n",
            "491/491 [==============================] - 0s 171us/step - loss: 0.2698 - acc: 0.8839\n",
            "Epoch 144/200\n",
            "491/491 [==============================] - 0s 173us/step - loss: 0.2690 - acc: 0.8798\n",
            "Epoch 145/200\n",
            "491/491 [==============================] - 0s 163us/step - loss: 0.2670 - acc: 0.8839\n",
            "Epoch 146/200\n",
            "491/491 [==============================] - 0s 189us/step - loss: 0.2666 - acc: 0.8900\n",
            "Epoch 147/200\n",
            "491/491 [==============================] - 0s 166us/step - loss: 0.2662 - acc: 0.8839\n",
            "Epoch 148/200\n",
            "491/491 [==============================] - 0s 159us/step - loss: 0.2654 - acc: 0.8859\n",
            "Epoch 149/200\n",
            "491/491 [==============================] - 0s 161us/step - loss: 0.2634 - acc: 0.8900\n",
            "Epoch 150/200\n",
            "491/491 [==============================] - 0s 155us/step - loss: 0.2642 - acc: 0.8880\n",
            "Epoch 151/200\n",
            "491/491 [==============================] - 0s 163us/step - loss: 0.2618 - acc: 0.8839\n",
            "Epoch 152/200\n",
            "491/491 [==============================] - 0s 172us/step - loss: 0.2612 - acc: 0.8859\n",
            "Epoch 153/200\n",
            "491/491 [==============================] - 0s 156us/step - loss: 0.2591 - acc: 0.8921\n",
            "Epoch 154/200\n",
            "491/491 [==============================] - 0s 155us/step - loss: 0.2584 - acc: 0.8859\n",
            "Epoch 155/200\n",
            "491/491 [==============================] - 0s 162us/step - loss: 0.2571 - acc: 0.8900\n",
            "Epoch 156/200\n",
            "491/491 [==============================] - 0s 172us/step - loss: 0.2566 - acc: 0.8921\n",
            "Epoch 157/200\n",
            "491/491 [==============================] - 0s 153us/step - loss: 0.2564 - acc: 0.8941\n",
            "Epoch 158/200\n",
            "491/491 [==============================] - 0s 154us/step - loss: 0.2555 - acc: 0.8880\n",
            "Epoch 159/200\n",
            "491/491 [==============================] - 0s 158us/step - loss: 0.2535 - acc: 0.8941\n",
            "Epoch 160/200\n",
            "491/491 [==============================] - 0s 167us/step - loss: 0.2536 - acc: 0.8961\n",
            "Epoch 161/200\n",
            "491/491 [==============================] - 0s 154us/step - loss: 0.2525 - acc: 0.8941\n",
            "Epoch 162/200\n",
            "491/491 [==============================] - 0s 155us/step - loss: 0.2500 - acc: 0.9002\n",
            "Epoch 163/200\n",
            "491/491 [==============================] - 0s 165us/step - loss: 0.2492 - acc: 0.8921\n",
            "Epoch 164/200\n",
            "491/491 [==============================] - 0s 171us/step - loss: 0.2481 - acc: 0.8961\n",
            "Epoch 165/200\n",
            "491/491 [==============================] - 0s 158us/step - loss: 0.2506 - acc: 0.8961\n",
            "Epoch 166/200\n",
            "491/491 [==============================] - 0s 153us/step - loss: 0.2473 - acc: 0.8982\n",
            "Epoch 167/200\n",
            "491/491 [==============================] - 0s 151us/step - loss: 0.2463 - acc: 0.8921\n",
            "Epoch 168/200\n",
            "491/491 [==============================] - 0s 150us/step - loss: 0.2465 - acc: 0.8941\n",
            "Epoch 169/200\n",
            "491/491 [==============================] - 0s 183us/step - loss: 0.2459 - acc: 0.9063\n",
            "Epoch 170/200\n",
            "491/491 [==============================] - 0s 159us/step - loss: 0.2459 - acc: 0.8900\n",
            "Epoch 171/200\n",
            "491/491 [==============================] - 0s 159us/step - loss: 0.2426 - acc: 0.8941\n",
            "Epoch 172/200\n",
            "491/491 [==============================] - 0s 169us/step - loss: 0.2412 - acc: 0.9043\n",
            "Epoch 173/200\n",
            "491/491 [==============================] - 0s 151us/step - loss: 0.2411 - acc: 0.8982\n",
            "Epoch 174/200\n",
            "491/491 [==============================] - 0s 150us/step - loss: 0.2403 - acc: 0.9002\n",
            "Epoch 175/200\n",
            "491/491 [==============================] - 0s 151us/step - loss: 0.2404 - acc: 0.9002\n",
            "Epoch 176/200\n",
            "491/491 [==============================] - 0s 169us/step - loss: 0.2370 - acc: 0.9002\n",
            "Epoch 177/200\n",
            "491/491 [==============================] - 0s 172us/step - loss: 0.2361 - acc: 0.9002\n",
            "Epoch 178/200\n",
            "491/491 [==============================] - 0s 156us/step - loss: 0.2371 - acc: 0.9022\n",
            "Epoch 179/200\n",
            "491/491 [==============================] - 0s 155us/step - loss: 0.2361 - acc: 0.9043\n",
            "Epoch 180/200\n",
            "491/491 [==============================] - 0s 155us/step - loss: 0.2350 - acc: 0.9043\n",
            "Epoch 181/200\n",
            "491/491 [==============================] - 0s 155us/step - loss: 0.2372 - acc: 0.9002\n",
            "Epoch 182/200\n",
            "491/491 [==============================] - 0s 185us/step - loss: 0.2354 - acc: 0.9084\n",
            "Epoch 183/200\n",
            "491/491 [==============================] - 0s 173us/step - loss: 0.2324 - acc: 0.9022\n",
            "Epoch 184/200\n",
            "491/491 [==============================] - 0s 164us/step - loss: 0.2299 - acc: 0.9022\n",
            "Epoch 185/200\n",
            "491/491 [==============================] - 0s 161us/step - loss: 0.2295 - acc: 0.9022\n",
            "Epoch 186/200\n",
            "491/491 [==============================] - 0s 168us/step - loss: 0.2292 - acc: 0.9022\n",
            "Epoch 187/200\n",
            "491/491 [==============================] - 0s 164us/step - loss: 0.2281 - acc: 0.9043\n",
            "Epoch 188/200\n",
            "491/491 [==============================] - 0s 165us/step - loss: 0.2280 - acc: 0.9084\n",
            "Epoch 189/200\n",
            "491/491 [==============================] - 0s 168us/step - loss: 0.2264 - acc: 0.9104\n",
            "Epoch 190/200\n",
            "491/491 [==============================] - 0s 154us/step - loss: 0.2268 - acc: 0.9063\n",
            "Epoch 191/200\n",
            "491/491 [==============================] - 0s 163us/step - loss: 0.2247 - acc: 0.9043\n",
            "Epoch 192/200\n",
            "491/491 [==============================] - 0s 153us/step - loss: 0.2237 - acc: 0.9043\n",
            "Epoch 193/200\n",
            "491/491 [==============================] - 0s 157us/step - loss: 0.2235 - acc: 0.9124\n",
            "Epoch 194/200\n",
            "491/491 [==============================] - 0s 174us/step - loss: 0.2235 - acc: 0.9063\n",
            "Epoch 195/200\n",
            "491/491 [==============================] - 0s 159us/step - loss: 0.2225 - acc: 0.9084\n",
            "Epoch 196/200\n",
            "491/491 [==============================] - 0s 149us/step - loss: 0.2219 - acc: 0.9104\n",
            "Epoch 197/200\n",
            "491/491 [==============================] - 0s 157us/step - loss: 0.2210 - acc: 0.9063\n",
            "Epoch 198/200\n",
            "491/491 [==============================] - 0s 163us/step - loss: 0.2210 - acc: 0.9104\n",
            "Epoch 199/200\n",
            "491/491 [==============================] - 0s 158us/step - loss: 0.2192 - acc: 0.9104\n",
            "Epoch 200/200\n",
            "491/491 [==============================] - 0s 155us/step - loss: 0.2184 - acc: 0.9124\n"
          ],
          "name": "stdout"
        },
        {
          "output_type": "execute_result",
          "data": {
            "text/plain": [
              "<keras.callbacks.History at 0x7f7a2c7608d0>"
            ]
          },
          "metadata": {
            "tags": []
          },
          "execution_count": 56
        }
      ]
    },
    {
      "cell_type": "code",
      "metadata": {
        "id": "8kTQ61-7Obvd",
        "colab_type": "code",
        "colab": {
          "base_uri": "https://localhost:8080/",
          "height": 68
        },
        "outputId": "a8d56000-0e00-4b8c-a72a-47c91eccbfb8"
      },
      "source": [
        "scores = model.evaluate(X_train,y_train)\n",
        "print(\"training accuracy: %.2f%%\\n\" % (scores[1]*100))"
      ],
      "execution_count": 57,
      "outputs": [
        {
          "output_type": "stream",
          "text": [
            "491/491 [==============================] - 0s 128us/step\n",
            "training accuracy: 91.24%\n",
            "\n"
          ],
          "name": "stdout"
        }
      ]
    },
    {
      "cell_type": "code",
      "metadata": {
        "id": "iXqYhx2QQehP",
        "colab_type": "code",
        "colab": {
          "base_uri": "https://localhost:8080/",
          "height": 68
        },
        "outputId": "2fff9f97-6774-48e8-90e5-f35f2d9b17d4"
      },
      "source": [
        "scores = model.evaluate(X_test,y_test)\n",
        "print(\"testing accuracy: %.2f%%\\n\" % (scores[1]*100))"
      ],
      "execution_count": 58,
      "outputs": [
        {
          "output_type": "stream",
          "text": [
            "154/154 [==============================] - 0s 118us/step\n",
            "testing accuracy: 77.92%\n",
            "\n"
          ],
          "name": "stdout"
        }
      ]
    },
    {
      "cell_type": "code",
      "metadata": {
        "id": "CFNkK7WTQ_u1",
        "colab_type": "code",
        "colab": {}
      },
      "source": [
        "from sklearn.metrics import confusion_matrix\n",
        "import seaborn as sns"
      ],
      "execution_count": 0,
      "outputs": []
    },
    {
      "cell_type": "code",
      "metadata": {
        "id": "Vh1OyqrKwc1i",
        "colab_type": "code",
        "colab": {
          "base_uri": "https://localhost:8080/",
          "height": 300
        },
        "outputId": "7a755c6b-d886-40a4-f5f1-49be6bb09b3e"
      },
      "source": [
        "y_test_pred = model.predict_classes(X_test)\n",
        "c_matrix = confusion_matrix(y_test,y_test_pred)\n",
        "ax = sns.heatmap(c_matrix,annot=True,xticklabels=['No diabetes','diabetes'],yticklabels=['No diabates','diabetes'],cbar=False,cmap='Blues')\n",
        "ax.set_xlabel(\"Prediction\")\n",
        "ax.set_ylabel(\"Actual\")"
      ],
      "execution_count": 61,
      "outputs": [
        {
          "output_type": "execute_result",
          "data": {
            "text/plain": [
              "Text(33.0, 0.5, 'Actual')"
            ]
          },
          "metadata": {
            "tags": []
          },
          "execution_count": 61
        },
        {
          "output_type": "display_data",
          "data": {
            "image/png": "[encoded data removed]",
            "text/plain": [
              "<Figure size 432x288 with 1 Axes>"
            ]
          },
          "metadata": {
            "tags": []
          }
        }
      ]
    },
    {
      "cell_type": "code",
      "metadata": {
        "id": "JCYTFmVcxneU",
        "colab_type": "code",
        "colab": {}
      },
      "source": [
        "from sklearn.metrics import roc_curve\n",
        "import matplotlib.pyplot as plt"
      ],
      "execution_count": 0,
      "outputs": []
    },
    {
      "cell_type": "code",
      "metadata": {
        "id": "1h8bH0YW0Uve",
        "colab_type": "code",
        "colab": {}
      },
      "source": [
        "y_test_pred_probs = model.predict(X_test)"
      ],
      "execution_count": 0,
      "outputs": []
    },
    {
      "cell_type": "code",
      "metadata": {
        "id": "7jwoFInk0hL1",
        "colab_type": "code",
        "colab": {}
      },
      "source": [
        "FPR,TPR,_ = roc_curve(y_test,y_test_pred_probs)"
      ],
      "execution_count": 0,
      "outputs": []
    },
    {
      "cell_type": "code",
      "metadata": {
        "id": "HWik75Fv0tXn",
        "colab_type": "code",
        "colab": {
          "base_uri": "https://localhost:8080/",
          "height": 312
        },
        "outputId": "15405657-1ce2-466c-f689-05b3b8e71576"
      },
      "source": [
        "plt.plot(FPR,TPR)\n",
        "plt.plot([0,1],[0,1],'--',color='black')\n",
        "plt.title('ROC Curve')\n",
        "plt.xlabel('False Positive Rate')\n",
        "plt.ylabel('True Positive Rate')"
      ],
      "execution_count": 66,
      "outputs": [
        {
          "output_type": "execute_result",
          "data": {
            "text/plain": [
              "Text(0, 0.5, 'True Positive Rate')"
            ]
          },
          "metadata": {
            "tags": []
          },
          "execution_count": 66
        },
        {
          "output_type": "display_data",
          "data": {
            "image/png": "[encoded data removed]",
            "text/plain": [
              "<Figure size 432x288 with 1 Axes>"
            ]
          },
          "metadata": {
            "tags": []
          }
        }
      ]
    },
    {
      "cell_type": "code",
      "metadata": {
        "id": "ymy6P0Rv1SVu",
        "colab_type": "code",
        "colab": {}
      },
      "source": [
        ""
      ],
      "execution_count": 0,
      "outputs": []
    },
    {
      "cell_type": "code",
      "metadata": {
        "id": "k2MnTz-D2jRv",
        "colab_type": "code",
        "colab": {}
      },
      "source": [
        ""
      ],
      "execution_count": 0,
      "outputs": []
    }
  ]
}